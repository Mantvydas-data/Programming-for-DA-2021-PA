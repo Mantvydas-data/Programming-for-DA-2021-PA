{
 "cells": [
  {
   "cell_type": "markdown",
   "id": "2f9a8f18-5af0-4600-a7d3-e34e553cc5d9",
   "metadata": {},
   "source": [
    "### Problem statement\n",
    "***\n",
    "The following assignment concerns the numpy.random package in Python [2]. You are\n",
    "required to create a Jupyter [5] notebook explaining the use of the package, including\n",
    "detailed explanations of at least five of the distributions provided for in the package.\n",
    "There are four distinct tasks to be carried out in your Jupyter notebook.\n",
    "***\n",
    "1. Explain the overall purpose of the package.\n",
    "2. Explain the use of the “Simple random data” and “Permutations” functions.\n",
    "3. Explain the use and purpose of at least five “Distributions” functions.\n",
    "4. Explain the use of seeds in generating pseudorandom numbers.\n"
   ]
  },
  {
   "cell_type": "code",
   "execution_count": 2,
   "id": "8f56ef96-774c-407f-a9d4-82a43e80f883",
   "metadata": {},
   "outputs": [
    {
     "data": {
      "text/plain": [
       "array([[2, 6, 4],\n",
       "       [2, 2, 5],\n",
       "       [6, 3, 5],\n",
       "       [3, 4, 4],\n",
       "       [5, 6, 4],\n",
       "       [6, 5, 5],\n",
       "       [2, 5, 3],\n",
       "       [6, 3, 3]])"
      ]
     },
     "execution_count": 2,
     "metadata": {},
     "output_type": "execute_result"
    }
   ],
   "source": [
    "import numpy as np\n",
    "import matplotlib.pyplot as plt\n",
    "import seaborn as sns\n",
    "\n",
    "\n",
    "np.random.randint(2,7,(8,3))"
   ]
  },
  {
   "cell_type": "markdown",
   "id": "d8b70356-3be1-434c-8470-e5cf5a938caa",
   "metadata": {},
   "source": [
    "### NumPy overall purpose overview\n",
    "***\n",
    "NumPy- Numerical Python is a fundamental Python package for scientific computing and Data Science. It provides tools to work with multidimensional arrays and matrices, improving computational speed up to 50x compared to traditional Python lists. Mostly written in C/C# and optimised to work with latest CPU architectures that constitutes to a very strong and efficient performance while working with logical and mathematical operations on complex arrays[https://www.w3schools.com/python/numpy/numpy_intro.asp] Numpy was created by Travis Oliphant[https://en.wikipedia.org/wiki/Travis_Oliphant] by adding numerous modifications to previously popular Numeric package subsequently NumPy became very popular open-source software with robust community support and development.\n"
   ]
  },
  {
   "cell_type": "markdown",
   "id": "591bdc81-90e2-4556-8c37-8ca24c0ae2ea",
   "metadata": {},
   "source": [
    "## Numpy.random \n",
    "***\n",
    "### Explain the overall purpose of the numpy.random package."
   ]
  },
  {
   "cell_type": "markdown",
   "id": "3ca239c6-9eee-4553-b687-4eb1bfeeef22",
   "metadata": {},
   "source": [
    "Numpy.random package is used to generate random numbers and multi-dimensional arrays; this output would be considered to be pseudorandom- it might seem output is different every time generation took place yet as computers are programmed to generate these number and arrays on pre-set sequence therefore it can be reproduced making it pseudorandom. Method is clearly visible when using seeds to get random reproduceable data."
   ]
  },
  {
   "cell_type": "markdown",
   "id": "91069ac7-4174-45e8-9772-970a9f77b4bb",
   "metadata": {},
   "source": [
    "## Simple random data\n",
    "***\n",
    "### numpy.random.rand"
   ]
  },
  {
   "cell_type": "markdown",
   "id": "2be24211-0f69-4d2b-b9be-22f2e65cf6ad",
   "metadata": {},
   "source": [
    "This function allows for generation of random uniform distribution sample of 0 to but not including 1. Array dimensions can be selected by editing parameters as required **numpy.random.rand(rows,columns)**"
   ]
  },
  {
   "cell_type": "code",
   "execution_count": 33,
   "id": "bb6cae02-e862-4ad5-9bd9-3ea96508d86d",
   "metadata": {},
   "outputs": [
    {
     "data": {
      "text/plain": [
       "array([[0.84091902, 0.79388084],\n",
       "       [0.25842259, 0.88321931],\n",
       "       [0.80541472, 0.7825515 ],\n",
       "       [0.48074729, 0.20414964]])"
      ]
     },
     "execution_count": 33,
     "metadata": {},
     "output_type": "execute_result"
    }
   ],
   "source": [
    "# Importing Numpy\n",
    "import numpy as np\n",
    "# Generating random array of 4 rows and 2 columns\n",
    "np.random.rand(4,2)"
   ]
  },
  {
   "cell_type": "markdown",
   "id": "edbd0d07-e7e6-4b5a-b1a9-896d7a8cf35d",
   "metadata": {},
   "source": [
    "### numpy.random.randn"
   ]
  },
  {
   "cell_type": "markdown",
   "id": "4ee4a2ff-6937-44be-9ade-1a6211bc9d38",
   "metadata": {},
   "source": [
    "This function returns a sample of values for standard distribution."
   ]
  },
  {
   "cell_type": "code",
   "execution_count": 36,
   "id": "d72f0502-0ad9-46bb-9d53-cbdb4a32aae2",
   "metadata": {
    "tags": []
   },
   "outputs": [
    {
     "data": {
      "text/plain": [
       "array([-0.63504434, -0.31256284,  0.80350803,  1.04913834,  0.58138318,\n",
       "       -1.21002914,  0.1260498 ,  0.96283582,  0.26743149,  1.34159418])"
      ]
     },
     "execution_count": 36,
     "metadata": {},
     "output_type": "execute_result"
    }
   ],
   "source": [
    "np.random.randn(10)"
   ]
  },
  {
   "cell_type": "markdown",
   "id": "40757cde-259f-4da3-9604-6d92ba413481",
   "metadata": {},
   "source": [
    "### numpy.random.randint"
   ]
  },
  {
   "cell_type": "markdown",
   "id": "bf5874b7-bf3e-4606-a46e-fda8f169d213",
   "metadata": {},
   "source": [
    "This function generates random integers on chosen low, high and size values"
   ]
  },
  {
   "cell_type": "code",
   "execution_count": null,
   "id": "26bc47d8-8b3b-4090-bf80-71c73a05a1fc",
   "metadata": {},
   "outputs": [],
   "source": []
  },
  {
   "cell_type": "markdown",
   "id": "276381f0-a839-4478-98ce-30a8ba548496",
   "metadata": {},
   "source": [
    "### numpy.random.Generator.integers"
   ]
  },
  {
   "cell_type": "code",
   "execution_count": null,
   "id": "328e0342-70b1-4dc8-b341-348a4f94f1f9",
   "metadata": {},
   "outputs": [],
   "source": []
  },
  {
   "cell_type": "code",
   "execution_count": null,
   "id": "f68789c3-7a45-484c-b070-3ae330eb82e0",
   "metadata": {},
   "outputs": [],
   "source": []
  },
  {
   "cell_type": "markdown",
   "id": "0d2854e2-cff5-484f-b7a6-7669d40ba1b4",
   "metadata": {},
   "source": [
    "### numpy.random.Generator.random"
   ]
  },
  {
   "cell_type": "code",
   "execution_count": null,
   "id": "5941210a-d422-4edc-9b13-0652c3498424",
   "metadata": {},
   "outputs": [],
   "source": []
  },
  {
   "cell_type": "code",
   "execution_count": null,
   "id": "45afa535-9014-433d-ac54-089000d57c79",
   "metadata": {},
   "outputs": [],
   "source": []
  },
  {
   "cell_type": "markdown",
   "id": "0f7300b1-38ef-4818-a466-58fce4736938",
   "metadata": {},
   "source": [
    "### numpy.random.Generator.choice"
   ]
  },
  {
   "cell_type": "code",
   "execution_count": null,
   "id": "5f75ccba-34f0-4041-92e1-1194235fd6e5",
   "metadata": {},
   "outputs": [],
   "source": []
  },
  {
   "cell_type": "code",
   "execution_count": null,
   "id": "302e3eb9-3c48-4267-8e35-c60298d7e65a",
   "metadata": {},
   "outputs": [],
   "source": []
  },
  {
   "cell_type": "markdown",
   "id": "acafd3b8-713c-4b60-9def-a840232aaa1e",
   "metadata": {},
   "source": [
    "### numpy.random.Generator.bytes"
   ]
  },
  {
   "cell_type": "code",
   "execution_count": null,
   "id": "ba4580fe-0f53-4f53-b62d-d3ecfc1c2eae",
   "metadata": {},
   "outputs": [],
   "source": []
  },
  {
   "cell_type": "code",
   "execution_count": null,
   "id": "d403ba0f-538b-4155-9edd-be5a9c810995",
   "metadata": {},
   "outputs": [],
   "source": []
  },
  {
   "cell_type": "markdown",
   "id": "ebfd0a1c-a7a7-48e0-9c18-d774bfa2a836",
   "metadata": {},
   "source": [
    "## Permutations\n",
    "***"
   ]
  },
  {
   "cell_type": "markdown",
   "id": "63cb6001-6c03-4371-a215-13e95d72c44c",
   "metadata": {},
   "source": [
    "### numpy.random.Generator.shuffle"
   ]
  },
  {
   "cell_type": "code",
   "execution_count": null,
   "id": "2bd067ed-b83a-4993-9e26-10d84901cd8e",
   "metadata": {},
   "outputs": [],
   "source": []
  },
  {
   "cell_type": "code",
   "execution_count": null,
   "id": "010c72be-d9ee-4e1e-a1ca-3065df38d3f3",
   "metadata": {},
   "outputs": [],
   "source": []
  },
  {
   "cell_type": "markdown",
   "id": "95fb457d-167d-4168-a4fa-77c09ef70699",
   "metadata": {},
   "source": [
    "### numpy.random.Generator.permutation"
   ]
  },
  {
   "cell_type": "code",
   "execution_count": null,
   "id": "c49f0163-af04-4b01-987d-8459a1613a6f",
   "metadata": {},
   "outputs": [],
   "source": []
  },
  {
   "cell_type": "code",
   "execution_count": null,
   "id": "90b4ea0f-06f7-4883-87b9-23eb495e10dc",
   "metadata": {},
   "outputs": [],
   "source": []
  },
  {
   "cell_type": "markdown",
   "id": "f272b300-b903-4cbc-b118-4084f6dadf8d",
   "metadata": {},
   "source": [
    "### numpy.random.Generator.permuted"
   ]
  },
  {
   "cell_type": "code",
   "execution_count": null,
   "id": "6e26d490-0068-4ec0-a248-9f10ebbc3797",
   "metadata": {},
   "outputs": [],
   "source": []
  },
  {
   "cell_type": "code",
   "execution_count": null,
   "id": "6a4be4f4-f424-4135-8555-5fed1cce4c14",
   "metadata": {},
   "outputs": [],
   "source": []
  },
  {
   "cell_type": "markdown",
   "id": "ccb25bc5-b38e-4e35-abfd-04ee84d9ddd2",
   "metadata": {},
   "source": [
    "## Distributions\n",
    "***"
   ]
  },
  {
   "cell_type": "markdown",
   "id": "278bc548-4e65-43e4-8f42-ca4b4ec8fb3a",
   "metadata": {},
   "source": [
    "Explain the use and purpose of at least five “Distributions” functions."
   ]
  },
  {
   "cell_type": "code",
   "execution_count": null,
   "id": "516ba13f-0ce2-47a8-be97-bdfe4954acbf",
   "metadata": {},
   "outputs": [],
   "source": []
  },
  {
   "cell_type": "code",
   "execution_count": null,
   "id": "9bc427a4-4e73-497b-9efd-da592f61b678",
   "metadata": {},
   "outputs": [],
   "source": []
  },
  {
   "cell_type": "code",
   "execution_count": null,
   "id": "6eef0129-b94b-41b8-879f-c7df0d449644",
   "metadata": {},
   "outputs": [],
   "source": []
  },
  {
   "cell_type": "code",
   "execution_count": null,
   "id": "7e09c560-5d91-40d8-9504-edcec910e3ee",
   "metadata": {},
   "outputs": [],
   "source": []
  },
  {
   "cell_type": "code",
   "execution_count": null,
   "id": "2c005abc-6e8d-4bff-a468-162e1a7f2fb6",
   "metadata": {},
   "outputs": [],
   "source": []
  },
  {
   "cell_type": "markdown",
   "id": "b7a785ec-4d09-4d6f-a80d-b03a6717e989",
   "metadata": {},
   "source": [
    "Explain the use of seeds in generating pseudorandom numbers."
   ]
  },
  {
   "cell_type": "markdown",
   "id": "bee08ab2-f758-4783-97c4-8e1dd9a75c7b",
   "metadata": {},
   "source": [
    "### numpy.random.default_rng()"
   ]
  },
  {
   "cell_type": "code",
   "execution_count": null,
   "id": "9ffa840b-6e5c-4aa2-b1ae-d022f9466a52",
   "metadata": {},
   "outputs": [],
   "source": []
  },
  {
   "cell_type": "code",
   "execution_count": null,
   "id": "a8708dc7-20af-448a-ab3a-8a788b02bcaf",
   "metadata": {},
   "outputs": [],
   "source": []
  },
  {
   "cell_type": "markdown",
   "id": "beadb4cf-ccd2-4124-9ff1-4e535756c915",
   "metadata": {},
   "source": [
    "### References"
   ]
  },
  {
   "cell_type": "markdown",
   "id": "73c289b5-48cc-48d8-bdd6-5191214038e2",
   "metadata": {},
   "source": [
    "#### 062 NumPy Random Seed Youtube video\n",
    "https://www.youtube.com/watch?v=y4t8MuKqKt8\n",
    "\n",
    "  "
   ]
  },
  {
   "cell_type": "markdown",
   "id": "0e875e55-3cb6-48f4-8552-4e70a978b0fd",
   "metadata": {},
   "source": [
    "https://realpython.com/python-random/#how-random-is-random"
   ]
  },
  {
   "cell_type": "markdown",
   "id": "631ff583-0e14-428b-a014-18472062ad6b",
   "metadata": {},
   "source": [
    "https://realpython.com/numpy-tutorial/#data-science-operations-filter-order-aggregate"
   ]
  },
  {
   "cell_type": "markdown",
   "id": "d95f5c0e-cd44-4366-82ad-f1d4256dcb73",
   "metadata": {},
   "source": [
    "https://www.w3schools.com/python/numpy/numpy_random.asp"
   ]
  },
  {
   "cell_type": "markdown",
   "id": "bec5345b-638d-4585-9f11-2f813ecaefc3",
   "metadata": {},
   "source": []
  }
 ],
 "metadata": {
  "kernelspec": {
   "display_name": "Python 3",
   "language": "python",
   "name": "python3"
  },
  "language_info": {
   "codemirror_mode": {
    "name": "ipython",
    "version": 3
   },
   "file_extension": ".py",
   "mimetype": "text/x-python",
   "name": "python",
   "nbconvert_exporter": "python",
   "pygments_lexer": "ipython3",
   "version": "3.8.8"
  }
 },
 "nbformat": 4,
 "nbformat_minor": 5
}
