{
 "cells": [
  {
   "cell_type": "markdown",
   "id": "2f9a8f18-5af0-4600-a7d3-e34e553cc5d9",
   "metadata": {},
   "source": [
    "### Problem statement\n",
    "***\n",
    "The following assignment concerns the numpy.random package in Python [2]. You are\n",
    "required to create a Jupyter [5] notebook explaining the use of the package, including\n",
    "detailed explanations of at least five of the distributions provided for in the package.\n",
    "There are four distinct tasks to be carried out in your Jupyter notebook.\n",
    "***\n",
    "1. Explain the overall purpose of the package.\n",
    "2. Explain the use of the “Simple random data” and “Permutations” functions.\n",
    "3. Explain the use and purpose of at least five “Distributions” functions.\n",
    "4. Explain the use of seeds in generating pseudorandom numbers.\n"
   ]
  },
  {
   "cell_type": "code",
   "execution_count": 11,
   "id": "8f56ef96-774c-407f-a9d4-82a43e80f883",
   "metadata": {},
   "outputs": [
    {
     "data": {
      "text/plain": [
       "array([[6, 5, 5],\n",
       "       [3, 6, 6],\n",
       "       [3, 2, 5],\n",
       "       [2, 3, 2],\n",
       "       [5, 3, 3],\n",
       "       [4, 2, 6],\n",
       "       [3, 5, 6],\n",
       "       [3, 2, 5]])"
      ]
     },
     "execution_count": 11,
     "metadata": {},
     "output_type": "execute_result"
    }
   ],
   "source": [
    "import numpy as np\n",
    "import matplotlib.pyplot as plt\n",
    "import seaborn as sns\n",
    "\n",
    "\n",
    "np.random.randint(2,7,(8,3))"
   ]
  },
  {
   "cell_type": "markdown",
   "id": "d8b70356-3be1-434c-8470-e5cf5a938caa",
   "metadata": {},
   "source": [
    "### NumPy overall purpose overview\n",
    "***\n",
    "NumPy- Numerical Python is a fundamental Python package for scientific computing and Data Science. It provides tools to work with multidimensional arrays and matrices, improving computational speed up to 50x compared to traditional Python lists. Mostly written in C/C# and optimised to work with latest CPU architectures that constitutes to a very strong and efficient performance while working with logical and mathematical operations on complex arrays[https://www.w3schools.com/python/numpy/numpy_intro.asp] Numpy was created by Travis Oliphant[https://en.wikipedia.org/wiki/Travis_Oliphant] by adding numerous modifications to previously popular Numeric package subsequently NumPy became very popular open-source software with robust community support and development.\n"
   ]
  },
  {
   "cell_type": "markdown",
   "id": "591bdc81-90e2-4556-8c37-8ca24c0ae2ea",
   "metadata": {},
   "source": [
    "## Numpy.random \n",
    "***\n",
    "### Explain the overall purpose of the numpy.random package."
   ]
  },
  {
   "cell_type": "markdown",
   "id": "3ca239c6-9eee-4553-b687-4eb1bfeeef22",
   "metadata": {},
   "source": [
    "Numpy.random package is used to generate random numbers and multi-dimensional arrays; this output would be considered to be pseudorandom- it might seem output is different every time generation took place yet as computers are programmed to generate these number and arrays on pre-set sequence therefore it can be reproduced making it pseudorandom. Method is clearly visible when using seeds to get random reproduceable data."
   ]
  },
  {
   "cell_type": "markdown",
   "id": "91069ac7-4174-45e8-9772-970a9f77b4bb",
   "metadata": {},
   "source": [
    "## Simple random data\n",
    "***\n",
    "### numpy.random.rand"
   ]
  },
  {
   "cell_type": "markdown",
   "id": "2be24211-0f69-4d2b-b9be-22f2e65cf6ad",
   "metadata": {},
   "source": [
    "This function allows for generation of random uniform distribution sample of 0 to but not including 1. Array dimensions can be selected by editing parameters as required **numpy.random.rand(rows,columns)**"
   ]
  },
  {
   "cell_type": "code",
   "execution_count": 16,
   "id": "bb6cae02-e862-4ad5-9bd9-3ea96508d86d",
   "metadata": {},
   "outputs": [
    {
     "ename": "TypeError",
     "evalue": "'AxesSubplot' object is not subscriptable",
     "output_type": "error",
     "traceback": [
      "\u001b[1;31m---------------------------------------------------------------------------\u001b[0m",
      "\u001b[1;31mTypeError\u001b[0m                                 Traceback (most recent call last)",
      "\u001b[1;32m<ipython-input-16-83757cfa56b2>\u001b[0m in \u001b[0;36m<module>\u001b[1;34m\u001b[0m\n\u001b[0;32m      6\u001b[0m \u001b[0mfig\u001b[0m\u001b[1;33m,\u001b[0m \u001b[0maxs\u001b[0m \u001b[1;33m=\u001b[0m \u001b[0mplt\u001b[0m\u001b[1;33m.\u001b[0m\u001b[0msubplots\u001b[0m\u001b[1;33m(\u001b[0m\u001b[0mfigsize\u001b[0m\u001b[1;33m=\u001b[0m\u001b[1;33m(\u001b[0m\u001b[1;36m5\u001b[0m\u001b[1;33m,\u001b[0m \u001b[1;36m5\u001b[0m\u001b[1;33m)\u001b[0m\u001b[1;33m)\u001b[0m\u001b[1;33m\u001b[0m\u001b[1;33m\u001b[0m\u001b[0m\n\u001b[0;32m      7\u001b[0m \u001b[0mfig\u001b[0m\u001b[1;33m.\u001b[0m\u001b[0msuptitle\u001b[0m\u001b[1;33m(\u001b[0m\u001b[1;34m'rand'\u001b[0m\u001b[1;33m)\u001b[0m\u001b[1;33m\u001b[0m\u001b[1;33m\u001b[0m\u001b[0m\n\u001b[1;32m----> 8\u001b[1;33m \u001b[0msns\u001b[0m\u001b[1;33m.\u001b[0m\u001b[0mhistplot\u001b[0m\u001b[1;33m(\u001b[0m\u001b[0mrand\u001b[0m\u001b[1;33m,\u001b[0m \u001b[0mkde\u001b[0m\u001b[1;33m=\u001b[0m\u001b[1;32mFalse\u001b[0m\u001b[1;33m,\u001b[0m \u001b[0mcolor\u001b[0m\u001b[1;33m=\u001b[0m\u001b[1;34m\"teal\"\u001b[0m\u001b[1;33m,\u001b[0m \u001b[0max\u001b[0m\u001b[1;33m=\u001b[0m\u001b[0maxs\u001b[0m\u001b[1;33m[\u001b[0m\u001b[1;36m0\u001b[0m\u001b[1;33m,\u001b[0m \u001b[1;36m0\u001b[0m\u001b[1;33m]\u001b[0m\u001b[1;33m)\u001b[0m\u001b[1;33m\u001b[0m\u001b[1;33m\u001b[0m\u001b[0m\n\u001b[0m\u001b[0;32m      9\u001b[0m \u001b[0mplt\u001b[0m\u001b[1;33m.\u001b[0m\u001b[0mtight_layout\u001b[0m\u001b[1;33m(\u001b[0m\u001b[1;33m)\u001b[0m\u001b[1;33m\u001b[0m\u001b[1;33m\u001b[0m\u001b[0m\n\u001b[0;32m     10\u001b[0m \u001b[0mplt\u001b[0m\u001b[1;33m.\u001b[0m\u001b[0mshow\u001b[0m\u001b[1;33m(\u001b[0m\u001b[1;33m)\u001b[0m\u001b[1;33m\u001b[0m\u001b[1;33m\u001b[0m\u001b[0m\n",
      "\u001b[1;31mTypeError\u001b[0m: 'AxesSubplot' object is not subscriptable"
     ]
    },
    {
     "data": {
      "image/png": "[encoded data removed]",
      "text/plain": [
       "<Figure size 360x360 with 1 Axes>"
      ]
     },
     "metadata": {},
     "output_type": "display_data"
    }
   ],
   "source": [
    "import numpy as np\n",
    "\n",
    "rand = np.random.rand(6,2)\n",
    "\n",
    "sns.set_theme(style=\"darkgrid\")\n",
    "fig, axs = plt.subplots(figsize=(5, 5))\n",
    "fig.suptitle('rand')\n",
    "sns.histplot(rand, kde=False, color=\"teal\", ax=axs[0, 0])\n",
    "plt.tight_layout()\n",
    "plt.show()"
   ]
  },
  {
   "cell_type": "markdown",
   "id": "edbd0d07-e7e6-4b5a-b1a9-896d7a8cf35d",
   "metadata": {},
   "source": [
    "### numpy.random randn"
   ]
  },
  {
   "cell_type": "markdown",
   "id": "4ee4a2ff-6937-44be-9ade-1a6211bc9d38",
   "metadata": {},
   "source": [
    "This function returns a sample of values for standard distribution."
   ]
  },
  {
   "cell_type": "code",
   "execution_count": 9,
   "id": "d72f0502-0ad9-46bb-9d53-cbdb4a32aae2",
   "metadata": {},
   "outputs": [
    {
     "data": {
      "text/plain": [
       "array([[-0.95630384,  0.64835098,  0.79337542, ..., -0.01517891,\n",
       "         0.40264836,  1.60139023],\n",
       "       [ 1.08360856,  1.35129762,  0.42650746, ..., -0.82859638,\n",
       "         0.31488212,  1.17901793],\n",
       "       [-0.68877521,  0.92110232, -0.93581747, ..., -0.81673989,\n",
       "        -2.52566393,  0.56196739],\n",
       "       ...,\n",
       "       [ 0.34195013, -0.03338154,  1.07372207, ...,  0.26094441,\n",
       "        -0.76494236, -0.68666154],\n",
       "       [ 0.37872117, -0.25601423, -0.9992431 , ..., -0.40330623,\n",
       "         1.26757598, -0.24949034],\n",
       "       [-0.83422207, -0.03029051, -0.5748423 , ...,  0.20476939,\n",
       "         1.87584802, -0.09779214]])"
      ]
     },
     "execution_count": 9,
     "metadata": {},
     "output_type": "execute_result"
    }
   ],
   "source": [
    "np.random.randn(20,60)"
   ]
  },
  {
   "cell_type": "code",
   "execution_count": null,
   "id": "b77668aa-00fb-46cb-910a-09ee8cc4dc75",
   "metadata": {},
   "outputs": [],
   "source": []
  },
  {
   "cell_type": "code",
   "execution_count": null,
   "id": "9b838832-efef-4f06-973a-46066a4ca508",
   "metadata": {},
   "outputs": [],
   "source": []
  },
  {
   "cell_type": "markdown",
   "id": "17e19c8d-56e5-4c2b-a42c-113306b2f0cc",
   "metadata": {},
   "source": [
    "Explain the use of the “Simple random data” and “Permutations” functions."
   ]
  },
  {
   "cell_type": "code",
   "execution_count": null,
   "id": "6a4be4f4-f424-4135-8555-5fed1cce4c14",
   "metadata": {},
   "outputs": [],
   "source": []
  },
  {
   "cell_type": "code",
   "execution_count": null,
   "id": "315d18f0-0662-47ac-8be2-0eb1e414600d",
   "metadata": {},
   "outputs": [],
   "source": []
  },
  {
   "cell_type": "markdown",
   "id": "278bc548-4e65-43e4-8f42-ca4b4ec8fb3a",
   "metadata": {},
   "source": [
    "Explain the use and purpose of at least five “Distributions” functions."
   ]
  },
  {
   "cell_type": "code",
   "execution_count": null,
   "id": "516ba13f-0ce2-47a8-be97-bdfe4954acbf",
   "metadata": {},
   "outputs": [],
   "source": []
  },
  {
   "cell_type": "code",
   "execution_count": null,
   "id": "2c005abc-6e8d-4bff-a468-162e1a7f2fb6",
   "metadata": {},
   "outputs": [],
   "source": []
  },
  {
   "cell_type": "markdown",
   "id": "b7a785ec-4d09-4d6f-a80d-b03a6717e989",
   "metadata": {},
   "source": [
    "Explain the use of seeds in generating pseudorandom numbers."
   ]
  },
  {
   "cell_type": "code",
   "execution_count": null,
   "id": "6fbe25f3-c5d9-4890-9b7d-04433952ce20",
   "metadata": {},
   "outputs": [],
   "source": []
  },
  {
   "cell_type": "code",
   "execution_count": null,
   "id": "9ffa840b-6e5c-4aa2-b1ae-d022f9466a52",
   "metadata": {},
   "outputs": [],
   "source": []
  },
  {
   "cell_type": "code",
   "execution_count": null,
   "id": "a8708dc7-20af-448a-ab3a-8a788b02bcaf",
   "metadata": {},
   "outputs": [],
   "source": []
  },
  {
   "cell_type": "markdown",
   "id": "beadb4cf-ccd2-4124-9ff1-4e535756c915",
   "metadata": {},
   "source": [
    "### References"
   ]
  },
  {
   "cell_type": "markdown",
   "id": "73c289b5-48cc-48d8-bdd6-5191214038e2",
   "metadata": {},
   "source": [
    "#### 062 NumPy Random Seed Youtube video\n",
    "https://www.youtube.com/watch?v=y4t8MuKqKt8\n",
    "\n",
    "  "
   ]
  },
  {
   "cell_type": "markdown",
   "id": "0e875e55-3cb6-48f4-8552-4e70a978b0fd",
   "metadata": {},
   "source": [
    "https://realpython.com/python-random/#how-random-is-random"
   ]
  },
  {
   "cell_type": "markdown",
   "id": "631ff583-0e14-428b-a014-18472062ad6b",
   "metadata": {},
   "source": [
    "https://realpython.com/numpy-tutorial/#data-science-operations-filter-order-aggregate"
   ]
  },
  {
   "cell_type": "markdown",
   "id": "d95f5c0e-cd44-4366-82ad-f1d4256dcb73",
   "metadata": {},
   "source": [
    "https://www.w3schools.com/python/numpy/numpy_random.asp"
   ]
  },
  {
   "cell_type": "markdown",
   "id": "bec5345b-638d-4585-9f11-2f813ecaefc3",
   "metadata": {},
   "source": []
  }
 ],
 "metadata": {
  "kernelspec": {
   "display_name": "Python 3",
   "language": "python",
   "name": "python3"
  },
  "language_info": {
   "codemirror_mode": {
    "name": "ipython",
    "version": 3
   },
   "file_extension": ".py",
   "mimetype": "text/x-python",
   "name": "python",
   "nbconvert_exporter": "python",
   "pygments_lexer": "ipython3",
   "version": "3.8.8"
  }
 },
 "nbformat": 4,
 "nbformat_minor": 5
}
