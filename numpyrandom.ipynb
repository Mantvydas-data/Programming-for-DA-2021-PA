{
 "cells": [
  {
   "cell_type": "markdown",
   "id": "2f9a8f18-5af0-4600-a7d3-e34e553cc5d9",
   "metadata": {},
   "source": [
    "### Problem statement\n",
    "***\n",
    "The following assignment concerns the numpy.random package in Python. You are\n",
    "required to create a Jupyter. notebook explaining the use of the package, including\n",
    "detailed explanations of at least five of the distributions provided for in the package.\n",
    "There are four distinct tasks to be carried out in your Jupyter notebook.\n",
    "***\n",
    "[1](#NumPy-overall-purpose-overview). Explain the overall purpose of the package.\\\n",
    "[2](#Simple-random-data). Explain the use of the “Simple random data” and “Permutations” functions.\\\n",
    "[3](#Distributions). Explain the use and purpose of at least five “Distributions” functions.\\\n",
    "[4](#Seeding-explain). Explain the use of seeds in generating pseudorandom numbers.\n"
   ]
  },
  {
   "cell_type": "code",
   "execution_count": 1,
   "id": "8f56ef96-774c-407f-a9d4-82a43e80f883",
   "metadata": {},
   "outputs": [],
   "source": [
    "# Importing required packages\n",
    "import numpy as np\n",
    "import matplotlib.pyplot as plt\n",
    "import seaborn as sns"
   ]
  },
  {
   "cell_type": "markdown",
   "id": "d8b70356-3be1-434c-8470-e5cf5a938caa",
   "metadata": {},
   "source": [
    "### NumPy overall purpose overview\n",
    "***\n",
    "NumPy- Numerical Python is a fundamental Python package for scientific computing and Data Science. It provides tools to work with multidimensional arrays and matrices, improving computational speed up to 50x compared to traditional Python lists. Mostly written in C/C# and optimised to work with latest CPU architectures that constitutes to a very strong and efficient performance while working with logical and mathematical operations on complex arrays[(w3schools)](https://www.w3schools.com/python/numpy/numpy_intro.asp). Numpy was created by [Travis Oliphant](https://en.wikipedia.org/wiki/Travis_Oliphant) by adding numerous modifications to previously popular Numeric package subsequently NumPy became very popular open-source software with robust community support and development.\n"
   ]
  },
  {
   "cell_type": "markdown",
   "id": "591bdc81-90e2-4556-8c37-8ca24c0ae2ea",
   "metadata": {},
   "source": [
    "## Numpy.random Package\n",
    "***\n",
    "### Explain the overall purpose of the numpy.random package."
   ]
  },
  {
   "cell_type": "markdown",
   "id": "3ca239c6-9eee-4553-b687-4eb1bfeeef22",
   "metadata": {},
   "source": [
    "Numpy.random package is used to generate random numbers and multi-dimensional arrays; this output would be considered to be pseudorandom- it might seem output is different every time generation took place yet as computers are programmed to generate these number and arrays on pre-set sequence therefore it can be reproduced making it pseudorandom. Method is clearly visible when using seeds to get random reproduceable data."
   ]
  },
  {
   "cell_type": "markdown",
   "id": "bf47e089-8d54-486d-a715-da8522c19c0f",
   "metadata": {},
   "source": [
    "### Generator"
   ]
  },
  {
   "cell_type": "markdown",
   "id": "e55f4c1f-020e-4ef7-bead-2fa47e7097fd",
   "metadata": {},
   "source": [
    "Numpy versions released following v1.17.0 can be set up with different types of generators that provides improved statistical properties comapred against legacy Mersenne Twister pseudo-random number generator. In the new version 64bit Permuted Congruential Generator is used as a default. Method uses two steps for random number generation: BitGenerator produces random values, Generator uses these values to create requested distributions equivalents. [Numpy-Random Sampling](https://numpy.org/doc/stable/reference/random/index.html)"
   ]
  },
  {
   "cell_type": "code",
   "execution_count": 2,
   "id": "0500dc68-8de7-4fdc-887e-d0debb0f793d",
   "metadata": {},
   "outputs": [],
   "source": [
    "# Importing random generator and assigning it to rng variable\n",
    "from numpy.random import default_rng\n",
    "\n",
    "rng = default_rng()"
   ]
  },
  {
   "cell_type": "markdown",
   "id": "91069ac7-4174-45e8-9772-970a9f77b4bb",
   "metadata": {},
   "source": [
    "## Simple random data\n",
    "***\n"
   ]
  },
  {
   "cell_type": "markdown",
   "id": "276381f0-a839-4478-98ce-30a8ba548496",
   "metadata": {},
   "source": [
    "### numpy.random.Generator.integers"
   ]
  },
  {
   "cell_type": "markdown",
   "id": "39e6d16e-6a00-49a8-9129-cca719528b03",
   "metadata": {},
   "source": [
    "This method allows for generation of random uniform distribution sample from zero to but not including one. Array dimensions can be selected by editing parameters as required \\\n",
    "**numpy.random.Generator.integers( low value inclusive , high value exclusive , size = (rows , columns), endpoint = if True- changes high value to inclusive)** \\\n",
    "[Numpy-Integers](https://numpy.org/doc/stable/reference/random/generated/numpy.random.Generator.integers.html)"
   ]
  },
  {
   "cell_type": "code",
   "execution_count": 11,
   "id": "f68789c3-7a45-484c-b070-3ae330eb82e0",
   "metadata": {},
   "outputs": [
    {
     "data": {
      "text/plain": [
       "array([[ 2,  4,  4],\n",
       "       [ 4,  4,  9],\n",
       "       [ 3,  7,  4],\n",
       "       [11,  5,  5],\n",
       "       [10,  7, 11]], dtype=int64)"
      ]
     },
     "execution_count": 11,
     "metadata": {},
     "output_type": "execute_result"
    }
   ],
   "source": [
    "# Generating random integers from 1 to 12 inclusive in array 5 rows and 3 columns\n",
    "rng.integers(1,12,(5,3),endpoint=True)"
   ]
  },
  {
   "cell_type": "markdown",
   "id": "0d2854e2-cff5-484f-b7a6-7669d40ba1b4",
   "metadata": {},
   "source": [
    "### numpy.random.Generator.random"
   ]
  },
  {
   "cell_type": "markdown",
   "id": "399a9245-4534-4c29-8316-14dabbd71a38",
   "metadata": {},
   "source": [
    "This method returns random float values in a range from zero inlusive to one exclusive [Numpy-Random](https://numpy.org/doc/stable/reference/random/generated/numpy.random.Generator.random.html) \\\n",
    "**random.Generator.random(size=None, dtype=np.float64, out=None)**"
   ]
  },
  {
   "cell_type": "code",
   "execution_count": 4,
   "id": "5941210a-d422-4edc-9b13-0652c3498424",
   "metadata": {},
   "outputs": [
    {
     "data": {
      "text/plain": [
       "array([0.84929841, 0.66799413, 0.97331924, 0.09563933, 0.01577221,\n",
       "       0.97281347, 0.33042724, 0.31271258, 0.35905268, 0.37820206,\n",
       "       0.29751192, 0.27114623, 0.48080254, 0.73709431, 0.14546231,\n",
       "       0.08185604, 0.65629686, 0.94813357, 0.36502385, 0.94990372])"
      ]
     },
     "execution_count": 4,
     "metadata": {},
     "output_type": "execute_result"
    }
   ],
   "source": [
    "# Generating 20 random floats\n",
    "rng.random(20)"
   ]
  },
  {
   "cell_type": "markdown",
   "id": "0f7300b1-38ef-4818-a466-58fce4736938",
   "metadata": {},
   "source": [
    "### numpy.random.Generator.choice"
   ]
  },
  {
   "cell_type": "markdown",
   "id": "e9d93f6f-0a95-44fa-8d5e-765e9bc4fdd7",
   "metadata": {},
   "source": [
    "This method return a sample of values from specified array, probabililty of each value can be set by user or uniform random sample will be returned. [Numpy-Choice](https://numpy.org/doc/stable/reference/random/generated/numpy.random.Generator.choice.html) \\\n",
    "**random.Generator.choice(array to choose from , size= number of choices(default to one if not selected), replace= if True each value can be selected multiple times, p= probablities set for each value, axis=0, shuffle=True)**"
   ]
  },
  {
   "cell_type": "code",
   "execution_count": 10,
   "id": "302e3eb9-3c48-4267-8e35-c60298d7e65a",
   "metadata": {},
   "outputs": [
    {
     "data": {
      "text/plain": [
       "array([2, 0, 0, 2, 2], dtype=int64)"
      ]
     },
     "execution_count": 10,
     "metadata": {},
     "output_type": "execute_result"
    }
   ],
   "source": [
    "# Array of 5 integers within 0 to but not including 3.\n",
    "rng.choice(3,5)"
   ]
  },
  {
   "cell_type": "code",
   "execution_count": 34,
   "id": "fb89334c-5a93-432b-988d-4fa45b82497d",
   "metadata": {},
   "outputs": [
    {
     "name": "stdout",
     "output_type": "stream",
     "text": [
      "Number array from 0 to 8: [0 1 2 3 4 5 6 7 8]\n"
     ]
    },
    {
     "data": {
      "text/plain": [
       "array([1, 7, 0, 8, 1])"
      ]
     },
     "execution_count": 34,
     "metadata": {},
     "output_type": "execute_result"
    }
   ],
   "source": [
    "# Array of 5 integers \n",
    "a = np.arange(9)\n",
    "print(\"Number array from 0 to 8: {}\" .format(a))\n",
    "# Assining probabilities and returning sample of 5\n",
    "rng.choice(a, 5, p=[0.2, 0.3, 0.05, 0, 0.2, 0, 0.1, 0.1, 0.05])"
   ]
  },
  {
   "cell_type": "markdown",
   "id": "acafd3b8-713c-4b60-9def-a840232aaa1e",
   "metadata": {},
   "source": [
    "### numpy.random.Generator.bytes"
   ]
  },
  {
   "cell_type": "markdown",
   "id": "deba706e-2e81-4c64-a220-48492bbe15b9",
   "metadata": {},
   "source": [
    "This method returns specified nuber of random bytes [Numpy-Bytes](https://numpy.org/doc/stable/reference/random/generated/numpy.random.Generator.bytes.html) Random bytes generator is commonly used for [salting](https://en.wikipedia.org/wiki/Salt_(cryptography)) the passwords before they are hashed- adding random data before it is encrypted for storing in data base.\n",
    "**numpy.random.Generator.bytes(bytes lenght required)**"
   ]
  },
  {
   "cell_type": "code",
   "execution_count": 6,
   "id": "d403ba0f-538b-4155-9edd-be5a9c810995",
   "metadata": {},
   "outputs": [
    {
     "data": {
      "text/plain": [
       "b'\\x1ax'"
      ]
     },
     "execution_count": 6,
     "metadata": {},
     "output_type": "execute_result"
    }
   ],
   "source": [
    "rng.bytes(2)"
   ]
  },
  {
   "cell_type": "markdown",
   "id": "ebfd0a1c-a7a7-48e0-9c18-d774bfa2a836",
   "metadata": {},
   "source": [
    "## Permutations\n",
    "***\n",
    "\n",
    "[Permutation](https://www.merriam-webster.com/dictionary/permutation) definition acording as per Merriam-Webster:\n",
    "1. Often major or fundamental change (as in character or condition) based primarily on rearrangement of existent elements\n",
    "2. A form or variety resulting from such change\n",
    "3. The act or process of changing the lineal order of an ordered set of objects\n",
    "4. An ordered arrangement of a set of objects"
   ]
  },
  {
   "cell_type": "markdown",
   "id": "63cb6001-6c03-4371-a215-13e95d72c44c",
   "metadata": {},
   "source": [
    "### numpy.random.Generator.shuffle"
   ]
  },
  {
   "cell_type": "markdown",
   "id": "4efd9eb8-d11f-406a-90a2-7b98033d898d",
   "metadata": {},
   "source": [
    "This method rearranges existing array without changing its values."
   ]
  },
  {
   "cell_type": "code",
   "execution_count": 52,
   "id": "010c72be-d9ee-4e1e-a1ca-3065df38d3f3",
   "metadata": {},
   "outputs": [
    {
     "name": "stdout",
     "output_type": "stream",
     "text": [
      "[ 0  1  2  3  4  5  6  7  8  9 10]\n",
      "[ 0  4  9  6  8  3  1 10  7  5  2]\n"
     ]
    }
   ],
   "source": [
    "# Generating array with values 0 to 10\n",
    "b = np.arange(11)\n",
    "print(b)\n",
    "# Shuffling generated array\n",
    "rng.shuffle(b)\n",
    "# Outputing array that has been shuffled\n",
    "print(b)"
   ]
  },
  {
   "cell_type": "markdown",
   "id": "95fb457d-167d-4168-a4fa-77c09ef70699",
   "metadata": {},
   "source": [
    "### numpy.random.Generator.permutation"
   ]
  },
  {
   "cell_type": "markdown",
   "id": "dbaef38c-5b55-4390-9d48-822ac6d9c8b5",
   "metadata": {},
   "source": [
    "This method permutes the array provided but does not override original array, a shuffled copy of an array is created and saved in the memory."
   ]
  },
  {
   "cell_type": "code",
   "execution_count": 56,
   "id": "90b4ea0f-06f7-4883-87b9-23eb495e10dc",
   "metadata": {},
   "outputs": [
    {
     "name": "stdout",
     "output_type": "stream",
     "text": [
      "[ 0  1  2  3  4  5  6  7  8  9 10]\n",
      "[ 0  4  1  9  3  2  5  8  7 10  6]\n",
      "[ 0  1  2  3  4  5  6  7  8  9 10]\n"
     ]
    }
   ],
   "source": [
    "# Generating array with values 0 to 10\n",
    "c = np.arange(11)\n",
    "print(c)\n",
    "# Shuffling generated array and saving it as d\n",
    "d= rng.permutation(c)\n",
    "print(d)\n",
    "# Outputing original array to confirm there was no change\n",
    "print(c)"
   ]
  },
  {
   "cell_type": "markdown",
   "id": "f272b300-b903-4cbc-b118-4084f6dadf8d",
   "metadata": {},
   "source": [
    "### numpy.random.Generator.permuted"
   ]
  },
  {
   "cell_type": "code",
   "execution_count": null,
   "id": "6e26d490-0068-4ec0-a248-9f10ebbc3797",
   "metadata": {},
   "outputs": [],
   "source": []
  },
  {
   "cell_type": "code",
   "execution_count": null,
   "id": "6a4be4f4-f424-4135-8555-5fed1cce4c14",
   "metadata": {},
   "outputs": [],
   "source": []
  },
  {
   "cell_type": "markdown",
   "id": "ccb25bc5-b38e-4e35-abfd-04ee84d9ddd2",
   "metadata": {},
   "source": [
    "## Distributions\n",
    "***"
   ]
  },
  {
   "cell_type": "markdown",
   "id": "278bc548-4e65-43e4-8f42-ca4b4ec8fb3a",
   "metadata": {},
   "source": [
    "Explain the use and purpose of at least five “Distributions” functions."
   ]
  },
  {
   "cell_type": "markdown",
   "id": "3e8fbe15-d74f-4b2c-9f79-a5d5439f005f",
   "metadata": {},
   "source": [
    "## numpy.random.Generator.normal"
   ]
  },
  {
   "cell_type": "code",
   "execution_count": null,
   "id": "e7d8c628-9852-4203-bb07-76e83e53776f",
   "metadata": {},
   "outputs": [],
   "source": []
  },
  {
   "cell_type": "code",
   "execution_count": null,
   "id": "07401095-906b-46f6-bbaa-a70765fcab0e",
   "metadata": {},
   "outputs": [],
   "source": []
  },
  {
   "cell_type": "markdown",
   "id": "2562d3a3-e46a-451b-b430-d731a42c1fcc",
   "metadata": {},
   "source": [
    "## numpy.random.Generator.uniform"
   ]
  },
  {
   "cell_type": "code",
   "execution_count": null,
   "id": "9f1a74da-a6f8-40a6-912e-8e80213afe85",
   "metadata": {},
   "outputs": [],
   "source": []
  },
  {
   "cell_type": "code",
   "execution_count": null,
   "id": "1ff8eca8-83f4-4a99-aa25-add04a2caae3",
   "metadata": {},
   "outputs": [],
   "source": []
  },
  {
   "cell_type": "markdown",
   "id": "37b3ef3c-cb1f-4156-afde-6806c913e898",
   "metadata": {},
   "source": [
    "## numpy.random.Generator.f"
   ]
  },
  {
   "cell_type": "code",
   "execution_count": 61,
   "id": "afc9191c-fcc4-4551-98d1-da59505b240d",
   "metadata": {},
   "outputs": [
    {
     "data": {
      "text/plain": [
       "array([3.49416840e-01, 2.62130479e-01, 2.45873756e-01, 8.55511600e-01,\n",
       "       4.72985118e+00, 8.83630952e+00, 2.98682688e+00, 4.92976143e-01,\n",
       "       3.78905566e-01, 1.16188987e+00, 1.32547772e+01, 1.31882323e+01,\n",
       "       8.30056251e+01, 6.22245039e-01, 3.58363331e+00, 6.20515229e-01,\n",
       "       9.55310260e-01, 2.08271576e+00, 1.23432509e-02, 4.94210063e+00,\n",
       "       5.94284865e-02, 9.59412926e+00, 8.71619377e-01, 1.88344213e-02,\n",
       "       3.39587839e-01, 2.90707054e-02, 1.83218703e-01, 8.25693571e-02,\n",
       "       4.13319008e+00, 1.27968956e+00, 2.68001765e-01, 1.95800354e+00,\n",
       "       5.70879234e+00, 4.82094353e-02, 3.07522513e-02, 8.33502267e-02,\n",
       "       7.71771107e-01, 4.97324575e-03, 4.65113931e-01, 1.21622090e+00,\n",
       "       3.89841545e-01, 1.73631991e+00, 1.89910297e+00, 1.12836841e+01,\n",
       "       1.89683526e-01, 1.68515502e+00, 3.15153454e+00, 4.17867219e+00,\n",
       "       2.68852828e+00, 1.20658651e+00])"
      ]
     },
     "execution_count": 61,
     "metadata": {},
     "output_type": "execute_result"
    }
   ],
   "source": [
    "rng.f(1,2,50)"
   ]
  },
  {
   "cell_type": "code",
   "execution_count": null,
   "id": "7e09c560-5d91-40d8-9504-edcec910e3ee",
   "metadata": {},
   "outputs": [],
   "source": []
  },
  {
   "cell_type": "markdown",
   "id": "5dd41060-ee44-48a0-9217-0d7f9967183a",
   "metadata": {},
   "source": [
    "## numpy.random.Generator.dirichlet\n"
   ]
  },
  {
   "cell_type": "code",
   "execution_count": null,
   "id": "43237f33-a121-4188-95d3-cbd328ad8599",
   "metadata": {},
   "outputs": [],
   "source": []
  },
  {
   "cell_type": "code",
   "execution_count": null,
   "id": "714b8110-2c99-4b00-8334-cc0126388738",
   "metadata": {},
   "outputs": [],
   "source": []
  },
  {
   "cell_type": "markdown",
   "id": "b7a785ec-4d09-4d6f-a80d-b03a6717e989",
   "metadata": {},
   "source": [
    "Explain the use of seeds in generating pseudorandom numbers."
   ]
  },
  {
   "cell_type": "markdown",
   "id": "bee08ab2-f758-4783-97c4-8e1dd9a75c7b",
   "metadata": {},
   "source": [
    "### Seeding explain\n",
    "***"
   ]
  },
  {
   "cell_type": "code",
   "execution_count": null,
   "id": "9ffa840b-6e5c-4aa2-b1ae-d022f9466a52",
   "metadata": {},
   "outputs": [],
   "source": []
  },
  {
   "cell_type": "code",
   "execution_count": null,
   "id": "a8708dc7-20af-448a-ab3a-8a788b02bcaf",
   "metadata": {},
   "outputs": [],
   "source": []
  },
  {
   "cell_type": "markdown",
   "id": "beadb4cf-ccd2-4124-9ff1-4e535756c915",
   "metadata": {},
   "source": [
    "### References\n",
    "***"
   ]
  },
  {
   "cell_type": "markdown",
   "id": "73c289b5-48cc-48d8-bdd6-5191214038e2",
   "metadata": {},
   "source": [
    "#### 062 NumPy Random Seed Youtube video\n",
    "https://www.youtube.com/watch?v=y4t8MuKqKt8\n",
    "\n",
    "  "
   ]
  },
  {
   "cell_type": "markdown",
   "id": "0e875e55-3cb6-48f4-8552-4e70a978b0fd",
   "metadata": {},
   "source": [
    "https://realpython.com/python-random/#how-random-is-random"
   ]
  },
  {
   "cell_type": "markdown",
   "id": "631ff583-0e14-428b-a014-18472062ad6b",
   "metadata": {},
   "source": [
    "https://realpython.com/numpy-tutorial/#data-science-operations-filter-order-aggregate"
   ]
  },
  {
   "cell_type": "markdown",
   "id": "d95f5c0e-cd44-4366-82ad-f1d4256dcb73",
   "metadata": {},
   "source": [
    "https://www.w3schools.com/python/numpy/numpy_random.asp"
   ]
  },
  {
   "cell_type": "markdown",
   "id": "bec5345b-638d-4585-9f11-2f813ecaefc3",
   "metadata": {},
   "source": [
    "https://realpython.com/how-to-use-numpy-arange/"
   ]
  },
  {
   "cell_type": "markdown",
   "id": "80a5c56c-a8d7-400d-a160-61ad09d831e4",
   "metadata": {},
   "source": [
    "https://numpy.org/doc/stable/reference/generated/numpy.arange.html"
   ]
  },
  {
   "cell_type": "code",
   "execution_count": null,
   "id": "2c42f540-392c-4968-828b-d00e42b70eb6",
   "metadata": {},
   "outputs": [],
   "source": []
  }
 ],
 "metadata": {
  "kernelspec": {
   "display_name": "Python 3",
   "language": "python",
   "name": "python3"
  },
  "language_info": {
   "codemirror_mode": {
    "name": "ipython",
    "version": 3
   },
   "file_extension": ".py",
   "mimetype": "text/x-python",
   "name": "python",
   "nbconvert_exporter": "python",
   "pygments_lexer": "ipython3",
   "version": "3.8.8"
  }
 },
 "nbformat": 4,
 "nbformat_minor": 5
}
