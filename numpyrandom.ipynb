{
 "cells": [
  {
   "cell_type": "markdown",
   "id": "2f9a8f18-5af0-4600-a7d3-e34e553cc5d9",
   "metadata": {},
   "source": [
    "### Problem statement\n",
    "***\n",
    "The following assignment concerns the numpy.random package in Python. You are\n",
    "required to create a Jupyter. notebook explaining the use of the package, including\n",
    "detailed explanations of at least five of the distributions provided for in the package.\n",
    "There are four distinct tasks to be carried out in your Jupyter notebook.\n",
    "***\n",
    "[1](#NumPy-overall-purpose-overview). Explain the overall purpose of the package.\\\n",
    "[2](#Simple-random-data). Explain the use of the “Simple random data” and “Permutations” functions.\\\n",
    "[3](#Distributions). Explain the use and purpose of at least five “Distributions” functions.\\\n",
    "[4](#Seeding-explain). Explain the use of seeds in generating pseudorandom numbers.\n"
   ]
  },
  {
   "cell_type": "code",
   "execution_count": 1,
   "id": "8f56ef96-774c-407f-a9d4-82a43e80f883",
   "metadata": {},
   "outputs": [],
   "source": [
    "# Importing required packages\n",
    "import numpy as np\n",
    "import matplotlib.pyplot as plt\n",
    "import seaborn as sns"
   ]
  },
  {
   "cell_type": "markdown",
   "id": "d8b70356-3be1-434c-8470-e5cf5a938caa",
   "metadata": {},
   "source": [
    "### NumPy overall purpose overview\n",
    "***\n",
    "NumPy- Numerical Python is a fundamental Python package for scientific computing and Data Science. It provides tools to work with multidimensional arrays and matrices, improving computational speed up to 50x compared to traditional Python lists. Mostly written in C/C# and optimised to work with latest CPU architectures that constitutes to a very strong and efficient performance while working with logical and mathematical operations on complex arrays[(w3schools)](https://www.w3schools.com/python/numpy/numpy_intro.asp). Numpy was created by [Travis Oliphant](https://en.wikipedia.org/wiki/Travis_Oliphant) by adding numerous modifications to previously popular Numeric package subsequently NumPy became very popular open-source software with robust community support and development.\n"
   ]
  },
  {
   "cell_type": "markdown",
   "id": "591bdc81-90e2-4556-8c37-8ca24c0ae2ea",
   "metadata": {},
   "source": [
    "## Numpy.random Package\n",
    "***\n",
    "### Explain the overall purpose of the numpy.random package."
   ]
  },
  {
   "cell_type": "markdown",
   "id": "3ca239c6-9eee-4553-b687-4eb1bfeeef22",
   "metadata": {},
   "source": [
    "Numpy.random package is used to generate random numbers and multi-dimensional arrays; this output would be considered to be pseudorandom- it might seem output is different every time generation took place yet as computers are programmed to generate these number and arrays on pre-set sequence therefore it can be reproduced making it pseudorandom. Method is clearly visible when using seeds to get random reproduceable data."
   ]
  },
  {
   "cell_type": "markdown",
   "id": "bf47e089-8d54-486d-a715-da8522c19c0f",
   "metadata": {},
   "source": [
    "### Generator"
   ]
  },
  {
   "cell_type": "markdown",
   "id": "e55f4c1f-020e-4ef7-bead-2fa47e7097fd",
   "metadata": {},
   "source": [
    "Numpy versions released following v1.17.0 can be set up with different types of generators that provides improved statistical properties comapred against legacy Mersenne Twister pseudo-random number generator. In the new version 64bit Permuted Congruential Generator is used as a default. Method uses two steps for random number generation: BitGenerator produces random values, Generator uses these values to create requested distributions equivalents. [Numpy-Random Sampling](https://numpy.org/doc/stable/reference/random/index.html)"
   ]
  },
  {
   "cell_type": "code",
   "execution_count": 2,
   "id": "0500dc68-8de7-4fdc-887e-d0debb0f793d",
   "metadata": {},
   "outputs": [],
   "source": [
    "# Importing random generator and assigning it to rng variable\n",
    "from numpy.random import default_rng\n",
    "\n",
    "rng = default_rng()"
   ]
  },
  {
   "cell_type": "markdown",
   "id": "91069ac7-4174-45e8-9772-970a9f77b4bb",
   "metadata": {},
   "source": [
    "## Simple random data\n",
    "***\n"
   ]
  },
  {
   "cell_type": "markdown",
   "id": "276381f0-a839-4478-98ce-30a8ba548496",
   "metadata": {},
   "source": [
    "### numpy.random.Generator.integers"
   ]
  },
  {
   "cell_type": "markdown",
   "id": "39e6d16e-6a00-49a8-9129-cca719528b03",
   "metadata": {},
   "source": [
    "This method allows for generation of random uniform distribution sample from zero to but not including one. Array dimensions can be selected by editing parameters as required \\\n",
    "**numpy.random.Generator.integers( low value inclusive , high value exclusive , size = (rows , columns), endpoint = if True- changes high value to inclusive)** \\\n",
    "[Numpy-Integers](https://numpy.org/doc/stable/reference/random/generated/numpy.random.Generator.integers.html)"
   ]
  },
  {
   "cell_type": "code",
   "execution_count": 3,
   "id": "f68789c3-7a45-484c-b070-3ae330eb82e0",
   "metadata": {},
   "outputs": [
    {
     "data": {
      "text/plain": [
       "array([[ 7,  3,  2],\n",
       "       [10,  9,  8],\n",
       "       [ 6, 10,  9],\n",
       "       [ 2,  9,  5],\n",
       "       [12,  2,  6]], dtype=int64)"
      ]
     },
     "execution_count": 3,
     "metadata": {},
     "output_type": "execute_result"
    }
   ],
   "source": [
    "# Generating random integers from 1 to 12 inclusive in array 5 rows and 3 columns\n",
    "rng.integers(1,12,(5,3),endpoint=True)"
   ]
  },
  {
   "cell_type": "markdown",
   "id": "0d2854e2-cff5-484f-b7a6-7669d40ba1b4",
   "metadata": {},
   "source": [
    "### numpy.random.Generator.random"
   ]
  },
  {
   "cell_type": "markdown",
   "id": "399a9245-4534-4c29-8316-14dabbd71a38",
   "metadata": {},
   "source": [
    "This method returns random float values in a range from zero inlusive to one exclusive [Numpy-Random](https://numpy.org/doc/stable/reference/random/generated/numpy.random.Generator.random.html) \\\n",
    "**random.Generator.random(size=None , dtype=np.float64 or np.float32, out=None)**"
   ]
  },
  {
   "cell_type": "code",
   "execution_count": 4,
   "id": "5941210a-d422-4edc-9b13-0652c3498424",
   "metadata": {},
   "outputs": [
    {
     "data": {
      "text/plain": [
       "array([0.15519977, 0.6715003 , 0.8618858 , 0.3723693 , 0.6687386 ,\n",
       "       0.81696415, 0.20749795, 0.07104433, 0.1792891 , 0.25881052,\n",
       "       0.36352992, 0.25139308, 0.48148608, 0.47452736, 0.9129493 ,\n",
       "       0.00293267, 0.59711707, 0.8072796 , 0.74594235, 0.00525868],\n",
       "      dtype=float32)"
      ]
     },
     "execution_count": 4,
     "metadata": {},
     "output_type": "execute_result"
    }
   ],
   "source": [
    "# Generating 20 random floats \n",
    "rng.random(20, dtype= np.float32)"
   ]
  },
  {
   "cell_type": "code",
   "execution_count": 5,
   "id": "5c0877cb-d6e6-451b-987f-1bca631bdee9",
   "metadata": {},
   "outputs": [
    {
     "data": {
      "text/plain": [
       "array([0.71780735, 0.78002981, 0.89033666, 0.29144137, 0.65509177,\n",
       "       0.79684854, 0.11854451, 0.60267551, 0.12869647, 0.38381327,\n",
       "       0.74231178, 0.38531327, 0.90797898, 0.83211379, 0.10425999,\n",
       "       0.13099719, 0.21882347, 0.39345817, 0.56235782, 0.26125019])"
      ]
     },
     "execution_count": 5,
     "metadata": {},
     "output_type": "execute_result"
    }
   ],
   "source": [
    "# Generating 20 random floats\n",
    "rng.random(20, dtype= np.float64)"
   ]
  },
  {
   "cell_type": "markdown",
   "id": "0f7300b1-38ef-4818-a466-58fce4736938",
   "metadata": {},
   "source": [
    "### numpy.random.Generator.choice"
   ]
  },
  {
   "cell_type": "markdown",
   "id": "e9d93f6f-0a95-44fa-8d5e-765e9bc4fdd7",
   "metadata": {},
   "source": [
    "This method return a sample of values from specified array, probabililty of each value can be set by user or uniform random sample will be returned. [Numpy-Choice](https://numpy.org/doc/stable/reference/random/generated/numpy.random.Generator.choice.html) \\\n",
    "**random.Generator.choice(array to choose from , size= number of choices(default to one if not selected), replace= if True each value can be selected multiple times, p= probablities set for each value, axis=0, shuffle=True)**"
   ]
  },
  {
   "cell_type": "code",
   "execution_count": 6,
   "id": "302e3eb9-3c48-4267-8e35-c60298d7e65a",
   "metadata": {},
   "outputs": [
    {
     "data": {
      "text/plain": [
       "array([2, 0, 1, 1, 0], dtype=int64)"
      ]
     },
     "execution_count": 6,
     "metadata": {},
     "output_type": "execute_result"
    }
   ],
   "source": [
    "# Array of 5 integers within 0 up to but not including 3.\n",
    "rng.choice(3,5)"
   ]
  },
  {
   "cell_type": "code",
   "execution_count": 7,
   "id": "fb89334c-5a93-432b-988d-4fa45b82497d",
   "metadata": {},
   "outputs": [
    {
     "name": "stdout",
     "output_type": "stream",
     "text": [
      "Number array from 0 to 8: [0 1 2 3 4 5 6 7 8]\n"
     ]
    },
    {
     "data": {
      "text/plain": [
       "array([1, 8, 1, 2, 4])"
      ]
     },
     "execution_count": 7,
     "metadata": {},
     "output_type": "execute_result"
    }
   ],
   "source": [
    "# Array of 5 integers \n",
    "a = np.arange(9)\n",
    "print(\"Number array from 0 to 8: {}\" .format(a))\n",
    "# Assining probabilities and returning sample of 5\n",
    "rng.choice(a, 5, p=[0.2, 0.3, 0.05, 0, 0.2, 0, 0.1, 0.1, 0.05])"
   ]
  },
  {
   "cell_type": "markdown",
   "id": "acafd3b8-713c-4b60-9def-a840232aaa1e",
   "metadata": {},
   "source": [
    "### numpy.random.Generator.bytes"
   ]
  },
  {
   "cell_type": "markdown",
   "id": "deba706e-2e81-4c64-a220-48492bbe15b9",
   "metadata": {},
   "source": [
    "This method returns specified nuber of random bytes [Numpy-Bytes](https://numpy.org/doc/stable/reference/random/generated/numpy.random.Generator.bytes.html) Random bytes generator is commonly used for [salting](https://en.wikipedia.org/wiki/Salt_(cryptography)) the passwords before they are hashed- adding random data before it is encrypted for storing in data base.\n",
    "**numpy.random.Generator.bytes(bytes lenght required)**"
   ]
  },
  {
   "cell_type": "code",
   "execution_count": 8,
   "id": "d403ba0f-538b-4155-9edd-be5a9c810995",
   "metadata": {},
   "outputs": [
    {
     "data": {
      "text/plain": [
       "b'S\\xbb'"
      ]
     },
     "execution_count": 8,
     "metadata": {},
     "output_type": "execute_result"
    }
   ],
   "source": [
    "rng.bytes(2)"
   ]
  },
  {
   "cell_type": "markdown",
   "id": "ebfd0a1c-a7a7-48e0-9c18-d774bfa2a836",
   "metadata": {},
   "source": [
    "## Permutations\n",
    "***\n",
    "\n",
    "[Permutation](https://www.merriam-webster.com/dictionary/permutation) definition acording as per Merriam-Webster:\n",
    "1. Often major or fundamental change (as in character or condition) based primarily on rearrangement of existent elements\n",
    "2. A form or variety resulting from such change\n",
    "3. The act or process of changing the lineal order of an ordered set of objects\n",
    "4. An ordered arrangement of a set of objects"
   ]
  },
  {
   "cell_type": "markdown",
   "id": "63cb6001-6c03-4371-a215-13e95d72c44c",
   "metadata": {},
   "source": [
    "### numpy.random.Generator.shuffle"
   ]
  },
  {
   "cell_type": "markdown",
   "id": "4efd9eb8-d11f-406a-90a2-7b98033d898d",
   "metadata": {},
   "source": [
    "This method [rearranges](https://numpy.org/doc/stable/reference/random/generated/numpy.random.Generator.shuffle.htmle) existing array without changing its values.\n",
    "\n",
    "**random.Generator.shuffle(x, axis=0)**"
   ]
  },
  {
   "cell_type": "code",
   "execution_count": 9,
   "id": "010c72be-d9ee-4e1e-a1ca-3065df38d3f3",
   "metadata": {},
   "outputs": [
    {
     "name": "stdout",
     "output_type": "stream",
     "text": [
      "[ 0  1  2  3  4  5  6  7  8  9 10]\n",
      "[ 0  5  3  9  1  2 10  4  7  6  8]\n"
     ]
    }
   ],
   "source": [
    "# Generating array with values 0 to 10\n",
    "b = np.arange(11)\n",
    "print(b)\n",
    "# Shuffling generated array\n",
    "rng.shuffle(b)\n",
    "# Outputing array that has been shuffled\n",
    "print(b)"
   ]
  },
  {
   "cell_type": "markdown",
   "id": "95fb457d-167d-4168-a4fa-77c09ef70699",
   "metadata": {},
   "source": [
    "### numpy.random.Generator.permutation"
   ]
  },
  {
   "cell_type": "markdown",
   "id": "dbaef38c-5b55-4390-9d48-822ac6d9c8b5",
   "metadata": {},
   "source": [
    "This method [permutes](https://numpy.org/doc/stable/reference/random/generated/numpy.random.Generator.permutation.html) the array provided but does not override original array, a shuffled copy of an array is created and saved in the memory.\n",
    "\n",
    "**random.Generator.permutation(x, axis=0)**"
   ]
  },
  {
   "cell_type": "code",
   "execution_count": 10,
   "id": "90b4ea0f-06f7-4883-87b9-23eb495e10dc",
   "metadata": {},
   "outputs": [
    {
     "name": "stdout",
     "output_type": "stream",
     "text": [
      "Geneated array : [ 0  1  2  3  4  5  6  7  8  9 10]\n",
      "Permuted array : [ 3  8  5  7 10  6  0  2  4  9  1]\n",
      "Original array : [ 0  1  2  3  4  5  6  7  8  9 10]\n"
     ]
    }
   ],
   "source": [
    "# Generating array with values 0 to 10\n",
    "c = np.arange(11)\n",
    "print(\"Geneated array : {}\" .format(c))\n",
    "# Shuffling generated array c and saving it as d \n",
    "d= rng.permutation(c)\n",
    "print(\"Permuted array : {}\" .format(d))\n",
    "# Outputing original array to confirm there was no change\n",
    "print(\"Original array : {}\" .format(c))"
   ]
  },
  {
   "cell_type": "markdown",
   "id": "f272b300-b903-4cbc-b118-4084f6dadf8d",
   "metadata": {},
   "source": [
    "### numpy.random.Generator.permuted"
   ]
  },
  {
   "cell_type": "markdown",
   "id": "bd18b3d8-6e1c-40c1-b567-1224f8ab9124",
   "metadata": {},
   "source": [
    "This methos alows to [permute](https://numpy.org/doc/stable/reference/random/generated/numpy.random.Generator.permuted.html) along x axis, that is beneficial when looking to shuffle ndimensional array.\n",
    "\n",
    "**random.Generator.permuted(array to be permuted, axis=None or 1, out=None or output to same size array, can also be saved if out= the same variable/array)**\n"
   ]
  },
  {
   "cell_type": "code",
   "execution_count": 11,
   "id": "6a4be4f4-f424-4135-8555-5fed1cce4c14",
   "metadata": {},
   "outputs": [
    {
     "data": {
      "text/plain": [
       "array([[ 0,  1,  2,  3,  4],\n",
       "       [ 5,  6,  7,  8,  9],\n",
       "       [10, 11, 12, 13, 14],\n",
       "       [15, 16, 17, 18, 19]])"
      ]
     },
     "execution_count": 11,
     "metadata": {},
     "output_type": "execute_result"
    }
   ],
   "source": [
    "# Generating array with 20 values, 4 rows and 5 columns\n",
    "e= np.arange(20).reshape(4,5)\n",
    "e"
   ]
  },
  {
   "cell_type": "code",
   "execution_count": 12,
   "id": "81bc3c94-862f-4daa-bff8-02ba1937b462",
   "metadata": {},
   "outputs": [
    {
     "data": {
      "text/plain": [
       "array([[10, 11, 12, 13, 14],\n",
       "       [15, 16, 17, 18, 19],\n",
       "       [ 5,  6,  7,  8,  9],\n",
       "       [ 0,  1,  2,  3,  4]])"
      ]
     },
     "execution_count": 12,
     "metadata": {},
     "output_type": "execute_result"
    }
   ],
   "source": [
    "# Permutation shuffles rows of array\n",
    "rng.permutation(e)"
   ]
  },
  {
   "cell_type": "code",
   "execution_count": 13,
   "id": "5665f529-29ce-4bd8-bf0f-b76636bba01c",
   "metadata": {},
   "outputs": [
    {
     "data": {
      "text/plain": [
       "array([[ 3,  2,  0,  1,  4],\n",
       "       [ 5,  9,  8,  7,  6],\n",
       "       [10, 11, 12, 14, 13],\n",
       "       [15, 18, 19, 17, 16]])"
      ]
     },
     "execution_count": 13,
     "metadata": {},
     "output_type": "execute_result"
    }
   ],
   "source": [
    "# Permuted shuffles columns within the rows\n",
    "rng.permuted(e, axis=1)"
   ]
  },
  {
   "cell_type": "code",
   "execution_count": 14,
   "id": "22eeb43b-921a-45ce-9976-b43eb5f77583",
   "metadata": {},
   "outputs": [
    {
     "data": {
      "text/plain": [
       "array([[ 3, 10,  7,  2, 18],\n",
       "       [19, 16,  6,  5,  9],\n",
       "       [11,  1, 15,  4,  8],\n",
       "       [13, 12, 14,  0, 17]])"
      ]
     },
     "execution_count": 14,
     "metadata": {},
     "output_type": "execute_result"
    }
   ],
   "source": [
    "# Permuted with axis=none flattened array is shufled, to save it \n",
    "rng.permuted(e)"
   ]
  },
  {
   "cell_type": "markdown",
   "id": "ccb25bc5-b38e-4e35-abfd-04ee84d9ddd2",
   "metadata": {},
   "source": [
    "## Distributions\n",
    "***"
   ]
  },
  {
   "cell_type": "markdown",
   "id": "278bc548-4e65-43e4-8f42-ca4b4ec8fb3a",
   "metadata": {},
   "source": [
    "Explain the use and purpose of at least five “Distributions” functions."
   ]
  },
  {
   "cell_type": "markdown",
   "id": "3e8fbe15-d74f-4b2c-9f79-a5d5439f005f",
   "metadata": {},
   "source": [
    "## numpy.random.Generator.normal"
   ]
  },
  {
   "cell_type": "markdown",
   "id": "159ce592-9f89-49ee-9e18-b79b188d6f66",
   "metadata": {},
   "source": [
    "<img src=\"https://media.cheggcdn.com/media/55a/55a3de38-4407-47f0-982b-0ae5745b6f59/CL-23900V_image_008.png\" width=\"500\"/> <br>\n",
    "[Chegg - Normal Curve](https://www.chegg.com/homework-help/definitions/normal-curve-31)"
   ]
  },
  {
   "cell_type": "markdown",
   "id": "ff7bc06b-536f-422f-879a-2b1935edc3f1",
   "metadata": {},
   "source": [
    "[Normal](https://numpy.org/doc/stable/reference/random/generated/numpy.random.Generator.normal.html#r1536f9c044a3-2) or Gaussian Distribution is a popular distribution for probability of the values. It has a symetrical bell curve with mean in the middle, mean line divides observations in half 50/50. Standard deviations are measured from statistical mean, showing dispersion of values and their likeliness. Probability of random variable: 68.26% of the values falls within one standard deviation, 95.44% of the values falls withing two standard deviations, 99.73% of the values falls within three standard deviations, where the rest are considered outliers. Real life example of normal distribution is throwing two dice or student marks in the exam.\n",
    "\n",
    "It is common to standardize normal distribution values into standard normal distribution where mean is marked as zero with standard deviation of one.\n",
    "\n",
    "**random.Generator.normal(loc=0.0 being the mean of the distribution, scale=1.0 is standard deviation value only positive, size=None number of observations)**"
   ]
  },
  {
   "cell_type": "code",
   "execution_count": 26,
   "id": "2a564617-a14a-4365-bc89-e3274742a9a2",
   "metadata": {},
   "outputs": [
    {
     "data": {
      "image/png": "[encoded data removed]",
      "text/plain": [
       "<Figure size 360x360 with 1 Axes>"
      ]
     },
     "metadata": {},
     "output_type": "display_data"
    }
   ],
   "source": [
    "# Returning a standard deviation sample with 1000 observations as g\n",
    "g=rng.normal(0,1,10000)\n",
    "# Setting up plot style\n",
    "sns.set_theme(style=\"darkgrid\")\n",
    "# Selecting displot with KDE line\n",
    "sns.displot(g, kde=True)\n",
    "plt.tight_layout()\n",
    "plt.show()"
   ]
  },
  {
   "cell_type": "markdown",
   "id": "2562d3a3-e46a-451b-b430-d731a42c1fcc",
   "metadata": {},
   "source": [
    "## numpy.random.Generator.uniform"
   ]
  },
  {
   "cell_type": "markdown",
   "id": "10a767cc-d019-4e17-a8cb-882f0dfb6264",
   "metadata": {},
   "source": [
    "Uniform distribution denotes observations that has equal probability of happening within the sample. Real life examples include coin toss probability of head or tails, also throwing a die has eaqual probability of rolling one of six values.\n",
    "\n",
    "**random.Generator.uniform(low=0.0 low value, high=1.0 high value, size=None sample size)**"
   ]
  },
  {
   "cell_type": "code",
   "execution_count": 35,
   "id": "9f1a74da-a6f8-40a6-912e-8e80213afe85",
   "metadata": {},
   "outputs": [
    {
     "data": {
      "image/png": "[encoded data removed]",
      "text/plain": [
       "<Figure size 360x360 with 1 Axes>"
      ]
     },
     "metadata": {},
     "output_type": "display_data"
    }
   ],
   "source": [
    "# Returning a uniform distribution with 50,000 observations as h\n",
    "h=rng.uniform(1,6,50000)\n",
    "# Setting up plot style\n",
    "sns.set_theme(style=\"darkgrid\")\n",
    "# Selecting displot with KDE line\n",
    "sns.displot(h, kde=True)\n",
    "plt.tight_layout()\n",
    "plt.show()"
   ]
  },
  {
   "cell_type": "markdown",
   "id": "37b3ef3c-cb1f-4156-afde-6806c913e898",
   "metadata": {},
   "source": [
    "## numpy.random.Generator.f"
   ]
  },
  {
   "cell_type": "code",
   "execution_count": 17,
   "id": "afc9191c-fcc4-4551-98d1-da59505b240d",
   "metadata": {},
   "outputs": [
    {
     "data": {
      "text/plain": [
       "array([3.23415566e+00, 1.35586367e+00, 2.52831552e+00, 8.13614924e-02,\n",
       "       7.29757950e+00, 3.11882851e-02, 5.62768054e-01, 1.08494546e-02,\n",
       "       1.49217157e+00, 2.17126453e+00, 2.12435905e-01, 2.31904605e+00,\n",
       "       2.65739279e+02, 3.06397622e-01, 2.12084415e-01, 7.97291262e-01,\n",
       "       3.60158463e+00, 5.24844247e-01, 2.58141450e-01, 1.65160098e-01,\n",
       "       7.29581765e-02, 6.74338731e+00, 1.92208930e-02, 8.92912699e-03,\n",
       "       6.93285987e+00, 9.92340123e-01, 1.05063937e+00, 5.48697425e+00,\n",
       "       3.65682636e-02, 1.49671293e-01, 2.10261277e-02, 2.62985678e-02,\n",
       "       1.68041130e+00, 3.41773639e+01, 1.24302972e+00, 1.45825600e+00,\n",
       "       2.15716035e+00, 1.49208239e+01, 1.66835996e+00, 6.34379026e-01,\n",
       "       1.09559951e+00, 3.18660351e-01, 1.04529705e+02, 8.67905651e-02,\n",
       "       1.74106617e+01, 5.78853972e-02, 2.84821408e-02, 1.37146210e+01,\n",
       "       1.93705012e-02, 9.65103312e-02])"
      ]
     },
     "execution_count": 17,
     "metadata": {},
     "output_type": "execute_result"
    }
   ],
   "source": [
    "rng.f(1,2,50)"
   ]
  },
  {
   "cell_type": "code",
   "execution_count": null,
   "id": "7e09c560-5d91-40d8-9504-edcec910e3ee",
   "metadata": {},
   "outputs": [],
   "source": []
  },
  {
   "cell_type": "markdown",
   "id": "5dd41060-ee44-48a0-9217-0d7f9967183a",
   "metadata": {},
   "source": [
    "## numpy.random.Generator.dirichlet\n"
   ]
  },
  {
   "cell_type": "code",
   "execution_count": null,
   "id": "43237f33-a121-4188-95d3-cbd328ad8599",
   "metadata": {},
   "outputs": [],
   "source": []
  },
  {
   "cell_type": "code",
   "execution_count": null,
   "id": "714b8110-2c99-4b00-8334-cc0126388738",
   "metadata": {},
   "outputs": [],
   "source": []
  },
  {
   "cell_type": "markdown",
   "id": "b7a785ec-4d09-4d6f-a80d-b03a6717e989",
   "metadata": {},
   "source": [
    "Explain the use of seeds in generating pseudorandom numbers."
   ]
  },
  {
   "cell_type": "markdown",
   "id": "bee08ab2-f758-4783-97c4-8e1dd9a75c7b",
   "metadata": {},
   "source": [
    "### Seeding explain\n",
    "***"
   ]
  },
  {
   "cell_type": "code",
   "execution_count": null,
   "id": "9ffa840b-6e5c-4aa2-b1ae-d022f9466a52",
   "metadata": {},
   "outputs": [],
   "source": []
  },
  {
   "cell_type": "code",
   "execution_count": null,
   "id": "a8708dc7-20af-448a-ab3a-8a788b02bcaf",
   "metadata": {},
   "outputs": [],
   "source": []
  },
  {
   "cell_type": "markdown",
   "id": "beadb4cf-ccd2-4124-9ff1-4e535756c915",
   "metadata": {},
   "source": [
    "### References\n",
    "***"
   ]
  },
  {
   "cell_type": "markdown",
   "id": "73c289b5-48cc-48d8-bdd6-5191214038e2",
   "metadata": {},
   "source": [
    "#### 062 NumPy Random Seed Youtube video\n",
    "https://www.youtube.com/watch?v=y4t8MuKqKt8\n",
    "\n",
    "  "
   ]
  },
  {
   "cell_type": "markdown",
   "id": "0e875e55-3cb6-48f4-8552-4e70a978b0fd",
   "metadata": {},
   "source": [
    "https://realpython.com/python-random/#how-random-is-random"
   ]
  },
  {
   "cell_type": "markdown",
   "id": "631ff583-0e14-428b-a014-18472062ad6b",
   "metadata": {},
   "source": [
    "https://realpython.com/numpy-tutorial/#data-science-operations-filter-order-aggregate"
   ]
  },
  {
   "cell_type": "markdown",
   "id": "d95f5c0e-cd44-4366-82ad-f1d4256dcb73",
   "metadata": {},
   "source": [
    "https://www.w3schools.com/python/numpy/numpy_random.asp"
   ]
  },
  {
   "cell_type": "markdown",
   "id": "bec5345b-638d-4585-9f11-2f813ecaefc3",
   "metadata": {},
   "source": [
    "https://realpython.com/how-to-use-numpy-arange/"
   ]
  },
  {
   "cell_type": "markdown",
   "id": "80a5c56c-a8d7-400d-a160-61ad09d831e4",
   "metadata": {},
   "source": [
    "https://numpy.org/doc/stable/reference/generated/numpy.arange.html"
   ]
  },
  {
   "cell_type": "markdown",
   "id": "632fef32-d42e-47a4-86b5-4a101a528b99",
   "metadata": {},
   "source": [
    "https://www.statisticshowto.com/probability-and-statistics/normal-distributions/"
   ]
  },
  {
   "cell_type": "code",
   "execution_count": null,
   "id": "fd153070-edf9-4d0f-bc22-50e4a9c755b1",
   "metadata": {},
   "outputs": [],
   "source": []
  }
 ],
 "metadata": {
  "kernelspec": {
   "display_name": "Python 3",
   "language": "python",
   "name": "python3"
  },
  "language_info": {
   "codemirror_mode": {
    "name": "ipython",
    "version": 3
   },
   "file_extension": ".py",
   "mimetype": "text/x-python",
   "name": "python",
   "nbconvert_exporter": "python",
   "pygments_lexer": "ipython3",
   "version": "3.8.8"
  }
 },
 "nbformat": 4,
 "nbformat_minor": 5
}
